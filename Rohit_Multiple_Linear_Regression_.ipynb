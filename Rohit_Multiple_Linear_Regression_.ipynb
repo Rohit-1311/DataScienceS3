{
  "nbformat": 4,
  "nbformat_minor": 0,
  "metadata": {
    "colab": {
      "provenance": [],
      "include_colab_link": true
    },
    "kernelspec": {
      "name": "python3",
      "display_name": "Python 3"
    }
  },
  "cells": [
    {
      "cell_type": "markdown",
      "metadata": {
        "id": "view-in-github",
        "colab_type": "text"
      },
      "source": [
        "<a href=\"https://colab.research.google.com/github/Rohit-1311/DataScienceS3/blob/main/Rohit_Multiple_Linear_Regression_.ipynb\" target=\"_parent\"><img src=\"https://colab.research.google.com/assets/colab-badge.svg\" alt=\"Open In Colab\"/></a>"
      ]
    },
    {
      "cell_type": "markdown",
      "metadata": {
        "id": "aQIDTCSIwTP3"
      },
      "source": [
        "### Instructions"
      ]
    },
    {
      "cell_type": "markdown",
      "metadata": {
        "id": "F_IP6BNb3Ne1"
      },
      "source": [
        "---"
      ]
    },
    {
      "cell_type": "markdown",
      "metadata": {
        "id": "azReToS7wWX3"
      },
      "source": [
        "#### Goal of the Project\n",
        "\n",
        "This project is designed for you to practice and solve the activities that are based on the concepts covered in the following lessons:\n",
        "\n",
        " 1. Multiple linear regression - Introduction\n",
        "\n"
      ]
    },
    {
      "cell_type": "markdown",
      "metadata": {
        "id": "llwKuOyIwnA_"
      },
      "source": [
        "---"
      ]
    },
    {
      "cell_type": "markdown",
      "metadata": {
        "id": "fR_SN7K6475D"
      },
      "source": [
        "### Problem Statement\n",
        "\n",
        "A real estate company wishes to analyse the prices of properties based on various factors such as area, number of rooms, bathrooms, bedrooms, etc. Create a multiple linear regression model which is capable of predicting the sale price of houses based on multiple factors and evaluate the accuracy of this model.\n",
        "\n",
        "\n",
        "\n",
        "\n",
        "\n",
        "\n"
      ]
    },
    {
      "cell_type": "markdown",
      "metadata": {
        "id": "lN1iCMJ4Oy1N"
      },
      "source": [
        "---"
      ]
    },
    {
      "cell_type": "markdown",
      "metadata": {
        "id": "L3zN-iv-wpjm"
      },
      "source": [
        "### List of Activities\n",
        "\n",
        "**Activity 1:** Analysing the Dataset\n",
        "\n",
        "**Activity 2:** Data Preparation\n",
        "  \n",
        "**Activity 3:** Train-Test Split\n",
        "\n",
        "**Activity 4:**  Model Training\n",
        "\n",
        "**Activity 5:** Model Prediction and Evaluation\n",
        "\n",
        "\n",
        "\n",
        "\n",
        "\n"
      ]
    },
    {
      "cell_type": "markdown",
      "metadata": {
        "id": "jLudEnlPO0FF"
      },
      "source": [
        "---"
      ]
    },
    {
      "cell_type": "markdown",
      "metadata": {
        "id": "lZt4yKiJwrUs"
      },
      "source": [
        "\n",
        "#### Activity 1:  Analysing the Dataset\n",
        "\n",
        "- Create a Pandas DataFrame for **Housing** dataset using the below link. This dataset consists of following columns:\n",
        "\n",
        "\n",
        "|Field|Description|\n",
        "|---:|:---|\n",
        "|price|Sale price of a house in INR|\n",
        "|area|Total size of a property in square feet|\n",
        "|bedrooms|Number of bedrooms|\n",
        "|bathrooms|Number of bathrooms|\n",
        "|storeys|Number of storeys excluding basement|\n",
        "|mainroad|yes, if the house faces a main road|\n",
        "|livingroom|yes, if the house has a separate living room or a drawing room for guests|\n",
        "|basement|yes, if the house has a basement|\n",
        "|hotwaterheating|yes, if the house uses gas for hot water heating|\n",
        "|airconditioning|yes, if there is central air conditioning|\n",
        "|parking|number of cars that can be parked|\n",
        "|prefarea|yes, if the house is located in the preferred neighbourhood of the city|\n",
        "\n",
        "  **Dataset Link:** house-prices.csv\n",
        "\n",
        "\n",
        "- Print the first five rows of the dataset. Check for null values and treat them accordingly.\n",
        "\n",
        "\n",
        "\n",
        "\n"
      ]
    },
    {
      "cell_type": "code",
      "metadata": {
        "id": "6U6NaAy4WQgs"
      },
      "source": [
        "# Import modules\n",
        "import numpy as np\n",
        "import pandas as pd\n",
        "# Load the dataset\n",
        "df=pd.read_csv(\"https://raw.githubusercontent.com/Rohit-1311/DataScienceS3/main/insurance_dataset.csv\")\n",
        "# Print first five rows using head() function\n",
        "df.head()"
      ],
      "execution_count": null,
      "outputs": []
    },
    {
      "cell_type": "code",
      "metadata": {
        "id": "jg7hAMJ4jKC5"
      },
      "source": [
        "# Check if there are any null values. If any column has null values, treat them accordingly\n"
      ],
      "execution_count": null,
      "outputs": []
    },
    {
      "cell_type": "markdown",
      "metadata": {
        "id": "T2b18ifmveiZ"
      },
      "source": [
        "---"
      ]
    },
    {
      "cell_type": "markdown",
      "metadata": {
        "id": "UjFIAaX0ocao"
      },
      "source": [
        "#### Activity 2: Data Preparation\n",
        "\n",
        "This dataset contains many columns having categorical data i.e. values 'Yes' or 'No'. However for linear regression, we need numerical data. So you need to convert all 'Yes' and 'No' values to 1s and 0s, where\n",
        "- 1 means 'Yes'\n",
        "- 0 means 'No'\n",
        "\n",
        "Similarly, replace\n",
        "\n",
        "- `unfurnished` with 0\n",
        "- `semi-furnished` with 1\n",
        "- `furnished` with 2\n",
        "\n",
        "**Hint:** To replace all 'Yes' values with 1 and 'No' values with 0, use `replace()` function of the DataFrame object.\n",
        "\n",
        "For ex: `df.replace(to_replace=\"yes\", value=1, inplace=True)` $\\Rightarrow$ replaces the \"yes\" values in all columns with 1. If you need to make changes inplace, use `inplace` boolean argument.\n",
        "\n"
      ]
    },
    {
      "cell_type": "code",
      "metadata": {
        "id": "J7cl2qj-Vv8H"
      },
      "source": [
        "# Replace all non-numeric values with numeric values.\n"
      ],
      "execution_count": null,
      "outputs": []
    },
    {
      "cell_type": "markdown",
      "metadata": {
        "id": "uG9YxYbpjgVG"
      },
      "source": [
        "---"
      ]
    },
    {
      "cell_type": "markdown",
      "metadata": {
        "id": "uDTmlU-Mz0fI"
      },
      "source": [
        "#### Activity 3: Train-Test Split\n",
        "\n",
        "You need to predict the house prices based on several factors. Thus, `price` is the target variable and other columns except `price` will be feature variables.\n",
        "\n",
        "Split the dataset into training set and test set such that the training set contains 67% of the instances and the remaining instances will become the test set."
      ]
    },
    {
      "cell_type": "code",
      "metadata": {
        "id": "Ku_loAWZ0LXr"
      },
      "source": [
        "# Split the DataFrame into the training and test sets.\n",
        "\n"
      ],
      "execution_count": null,
      "outputs": []
    },
    {
      "cell_type": "markdown",
      "metadata": {
        "id": "hCPg7ClP0Om1"
      },
      "source": [
        "---"
      ]
    },
    {
      "cell_type": "markdown",
      "metadata": {
        "id": "ud8dLfCGjh0E"
      },
      "source": [
        "#### Activity 4: Model Training\n",
        "\n",
        "Implement multiple linear regression using `sklearn` module in the following way:\n",
        "\n",
        "1. Reshape the target variable array into two-dimensional arrays by using `reshape(-1, 1)` function of the numpy module.\n",
        "2. Deploy the model by importing the `LinearRegression` class and create an object of this class.\n",
        "3. Call the `fit()` function on the LinearRegression object."
      ]
    },
    {
      "cell_type": "code",
      "metadata": {
        "id": "Xost35Q1XreI"
      },
      "source": [
        "# Create two-dimensional NumPy arrays for the target variable\n",
        "\n",
        "\n",
        "\n",
        "# Build linear regression model\n",
        "\n",
        "\n",
        "# Print the value of the intercept\n",
        "\n",
        "# Print the names of the features along with the values of their corresponding coefficients.\n"
      ],
      "execution_count": null,
      "outputs": []
    },
    {
      "cell_type": "markdown",
      "metadata": {
        "id": "cAPgWR45mrCo"
      },
      "source": [
        "---"
      ]
    },
    {
      "cell_type": "markdown",
      "metadata": {
        "id": "CvcLZdremtHY"
      },
      "source": [
        "#### Activity 5: Model Prediction and Evaluation\n",
        "\n",
        "Predict the values for both training and test sets by calling the `predict()` function on the LinearRegression object. Also, calculate the $R^2$, MSE, RMSE and MAE values to evaluate the accuracy of your model."
      ]
    },
    {
      "cell_type": "code",
      "metadata": {
        "id": "nktWlDysyJyR"
      },
      "source": [
        "# Predict the target variable values for training and test set\n"
      ],
      "execution_count": null,
      "outputs": []
    },
    {
      "cell_type": "code",
      "metadata": {
        "id": "hc3RPNgsX5-0"
      },
      "source": [
        "# Evaluate the linear regression model using the 'r2_score', 'mean_squared_error' & 'mean_absolute_error' functions of the 'sklearn' module.\n"
      ],
      "execution_count": null,
      "outputs": []
    },
    {
      "cell_type": "markdown",
      "metadata": {
        "id": "Bp0p4IT-Dn_w"
      },
      "source": [
        "---"
      ]
    }
  ]
}