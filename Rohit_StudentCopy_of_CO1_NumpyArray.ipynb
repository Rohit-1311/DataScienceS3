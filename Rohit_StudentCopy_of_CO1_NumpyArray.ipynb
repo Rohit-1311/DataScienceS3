{
  "nbformat": 4,
  "nbformat_minor": 0,
  "metadata": {
    "colab": {
      "provenance": [],
      "include_colab_link": true
    },
    "kernelspec": {
      "name": "python3",
      "display_name": "Python 3"
    },
    "language_info": {
      "name": "python"
    }
  },
  "cells": [
    {
      "cell_type": "markdown",
      "metadata": {
        "id": "view-in-github",
        "colab_type": "text"
      },
      "source": [
        "<a href=\"https://colab.research.google.com/github/Rohit-1311/DataScienceS3/blob/main/Rohit_StudentCopy_of_CO1_NumpyArray.ipynb\" target=\"_parent\"><img src=\"https://colab.research.google.com/assets/colab-badge.svg\" alt=\"Open In Colab\"/></a>"
      ]
    },
    {
      "cell_type": "code",
      "source": [
        "# program to create an array of all the even integers from 20 to 80\n",
        "import numpy as np\n",
        "array=np.arange(20,80,2)\n",
        "print(array)"
      ],
      "metadata": {
        "id": "cfWur71N9aGi",
        "colab": {
          "base_uri": "https://localhost:8080/"
        },
        "outputId": "fb6e5778-f8ba-44a1-951a-c754995fcc15"
      },
      "execution_count": 4,
      "outputs": [
        {
          "output_type": "stream",
          "name": "stdout",
          "text": [
            "[20 22 24 26 28 30 32 34 36 38 40 42 44 46 48 50 52 54 56 58 60 62 64 66\n",
            " 68 70 72 74 76 78]\n"
          ]
        }
      ]
    },
    {
      "cell_type": "code",
      "execution_count": 25,
      "metadata": {
        "id": "RmYAaiCX73Y2",
        "colab": {
          "base_uri": "https://localhost:8080/"
        },
        "outputId": "9ef04bf2-d255-4a40-da44-8c34bde38776"
      },
      "outputs": [
        {
          "output_type": "stream",
          "name": "stdout",
          "text": [
            "[ 2  5 18 14 55]\n",
            "[ 3 25 10 43 21]\n",
            "\n",
            "Greater than\n",
            "[False False  True False  True]\n",
            "\n",
            "Greater_Equal\n",
            "[False False  True False  True]\n",
            "\n",
            "Less than\n",
            "[ True  True False  True False]\n",
            "\n",
            "Lesser Equal\n",
            "[ True  True False  True False]\n"
          ]
        }
      ],
      "source": [
        "#Write a program to create a numpy array and perform element-wise comparison (greater, greater_equal, less than, lesser_equal).\n",
        "import numpy as py\n",
        "x = np.array([2, 5, 18, 14, 55])\n",
        "y = np.array([3, 25, 10, 43, 21])\n",
        "\n",
        "print(x)\n",
        "print(y)\n",
        "\n",
        "print(\"\\nGreater than\")\n",
        "print(np.greater(x,y))\n",
        "\n",
        "print(\"\\nGreater_Equal\")\n",
        "print(np.greater_equal(x,y))\n",
        "\n",
        "print(\"\\nLess than\")\n",
        "print(np.less(x,y))\n",
        "\n",
        "print(\"\\nLesser Equal\")\n",
        "print(np.less_equal(x,y))"
      ]
    },
    {
      "cell_type": "code",
      "source": [
        "#program to multiply two given arrays of same size\n",
        "import numpy as py\n",
        "x = np.array([2, 5, 18, 14, 55])\n",
        "y = np.array([3, 25, 10, 43, 21])\n",
        "m=np.multiply(x,y)\n",
        "print(m)"
      ],
      "metadata": {
        "id": "js_mIfpL9M6z",
        "colab": {
          "base_uri": "https://localhost:8080/"
        },
        "outputId": "d5e937c7-b266-4bbf-801c-4a2eacaf895d"
      },
      "execution_count": 20,
      "outputs": [
        {
          "output_type": "stream",
          "name": "stdout",
          "text": [
            "[   6  125  180  602 1155]\n"
          ]
        }
      ]
    },
    {
      "cell_type": "code",
      "source": [
        "#Program to save a given array to a text file and load it\n",
        "import numpy as np\n",
        "import os\n",
        "x=np.arange(16).reshape(4,4)\n",
        "print(x)\n",
        "h='Cl1 Cl2 Cl3 Cl4'\n",
        "np.savetxt('myarray.txt',x,fmt=\"%d\",header=h)\n",
        "print(\"Afer loading Content\")\n",
        "print(np.loadtxt(\"myarray.txt\"))\n"
      ],
      "metadata": {
        "id": "ZcAcw9Cu9pYA",
        "colab": {
          "base_uri": "https://localhost:8080/"
        },
        "outputId": "49dca376-a746-479b-902b-63adb4b139c3"
      },
      "execution_count": 23,
      "outputs": [
        {
          "output_type": "stream",
          "name": "stdout",
          "text": [
            "[[ 0  1  2  3]\n",
            " [ 4  5  6  7]\n",
            " [ 8  9 10 11]\n",
            " [12 13 14 15]]\n",
            "Afer loading Content\n",
            "[[ 0.  1.  2.  3.]\n",
            " [ 4.  5.  6.  7.]\n",
            " [ 8.  9. 10. 11.]\n",
            " [12. 13. 14. 15.]]\n"
          ]
        }
      ]
    }
  ]
}