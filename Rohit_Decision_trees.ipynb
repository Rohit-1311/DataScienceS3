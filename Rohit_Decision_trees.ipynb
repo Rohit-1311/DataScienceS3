{
  "nbformat": 4,
  "nbformat_minor": 0,
  "metadata": {
    "colab": {
      "provenance": [],
      "include_colab_link": true
    },
    "kernelspec": {
      "name": "python3",
      "display_name": "Python 3"
    },
    "language_info": {
      "name": "python"
    }
  },
  "cells": [
    {
      "cell_type": "markdown",
      "metadata": {
        "id": "view-in-github",
        "colab_type": "text"
      },
      "source": [
        "<a href=\"https://colab.research.google.com/github/Rohit-1311/DataScienceS3/blob/main/Rohit_Decision_trees.ipynb\" target=\"_parent\"><img src=\"https://colab.research.google.com/assets/colab-badge.svg\" alt=\"Open In Colab\"/></a>"
      ]
    },
    {
      "cell_type": "markdown",
      "source": [
        "**Aim:** Program to implement decision trees using any standard dataset available in the public domain and find the accuracy of the algorithm.\n",
        "\n",
        "**Short notes**\n",
        "\n",
        "Decision tree is a type of supervised learning algorithm (having a predefined target variable) that is mostly used in classification problems. It works for both categorical and continuous input and output variables. In this technique, we split the population or sample into two or more homogeneous sets (or sub-populations) based on most significant splitter / differentiator in input variables.\n",
        "\n",
        "**Used Python Packages**:\n",
        "\n",
        "**sklearn** :\n",
        "In python, sklearn is a machine learning package which include a lot of ML algorithms. Here, we are using some of its modules like train_test_split, DecisionTreeClassifier and accuracy_score.\n",
        "\n",
        "**NumPy** :\n",
        "It is a numeric python module which provides fast maths functions for calculations.\n",
        "It is used to read data in numpy arrays and for manipulation purpose.\n",
        "\n",
        "**Pandas** :\n",
        "Used to read and write different files.\n",
        "Data manipulation can be done easily with dataframes.\n",
        "\n",
        "\n",
        "\n",
        "**Important Terminology related to Tree based Algorithms**\n",
        "\n",
        "**Root Node**: It represents entire population or sample and this further gets divided into two or more homogeneous sets.\n",
        "\n",
        "**Splitting**: It is a process of dividing a node into two or more sub-nodes.\n",
        "\n",
        "**Decision Node**: When a sub-node splits into further sub-nodes, then it is called decision node.\n",
        "\n",
        "**Leaf/ Terminal Node**: Nodes do not split is called Leaf or Terminal node.\n",
        "\n",
        "**Pruning**: When we remove sub-nodes of a decision node, this process is called pruning. You can say opposite process of splitting.\n",
        "\n",
        "**Branch / Sub-Tree**: A sub section of entire tree is called branch or sub-tree.\n",
        "\n",
        "**Parent and Child Node**: A node, which is divided into sub-nodes is called parent node of sub-nodes where as sub-nodes are the child of parent node."
      ],
      "metadata": {
        "id": "-eE2JQwSjpKd"
      }
    },
    {
      "cell_type": "code",
      "source": [
        "#import the modules\n",
        "from sklearn.model_selection import train_test_split\n",
        "import pandas as pd\n",
        "#load iris data\n",
        "df=pd.read_csv('https://raw.githubusercontent.com/Rohit-1311/DataScienceS3/main/iris-dataset.csv')\n"
      ],
      "metadata": {
        "id": "UpR_j728kqGq"
      },
      "execution_count": null,
      "outputs": []
    },
    {
      "cell_type": "code",
      "source": [
        "#Display the number of rows & columns in dataframe\n",
        "x=df[['SepalLengthCm','SepalWidthCm','PetalLengthCm','PetalWidthCm']]\n",
        "y=df['Species']"
      ],
      "metadata": {
        "id": "d1GxS-yOmXbd"
      },
      "execution_count": null,
      "outputs": []
    },
    {
      "cell_type": "code",
      "source": [
        "#Perform Train Test Split\n",
        "from sklearn.model_selection import train_test_split\n",
        "from sklearn.tree import DecisionTreeClassifier\n",
        "\n",
        "x_train,x_test,y_train,y_test=train_test_split(x,y,test_size=0.25,random_state=50)"
      ],
      "metadata": {
        "id": "RAI2Xe6gm1dH"
      },
      "execution_count": null,
      "outputs": []
    },
    {
      "cell_type": "code",
      "source": [
        "#Construct decission tree classifier with criterion='entropy' with min_samples_split to 50. Default value is 2\n",
        "model=DecisionTreeClassifier(criterion='entropy',min_samples_split=50)\n",
        "model.fit(x_train,y_train)\n",
        "predict=model.predict(x_test)\n",
        "#Display Accuracy on test data\n",
        "from sklearn.metrics import accuracy_score\n",
        "acc=accuracy_score(y_test,predict)\n",
        "print(\"The accuracy is \",acc)\n"
      ],
      "metadata": {
        "id": "HKJP1PH4oa7l",
        "colab": {
          "base_uri": "https://localhost:8080/"
        },
        "outputId": "ce8750b7-9981-4d8a-c8e9-d7268be1aff7"
      },
      "execution_count": null,
      "outputs": [
        {
          "output_type": "stream",
          "name": "stdout",
          "text": [
            "The accuracy is  0.9473684210526315\n"
          ]
        }
      ]
    },
    {
      "cell_type": "code",
      "source": [
        "#visualise the decision tree\n",
        "\n",
        "from sklearn.tree import export_graphviz\n",
        "from six import StringIO\n",
        "from IPython.display import Image\n",
        "import pydotplus\n",
        "\n"
      ],
      "metadata": {
        "id": "hnmJoObcuB7h"
      },
      "execution_count": null,
      "outputs": []
    }
  ]
}